{
 "cells": [
  {
   "cell_type": "code",
   "execution_count": null,
   "metadata": {},
   "outputs": [
    {
     "ename": "",
     "evalue": "",
     "output_type": "error",
     "traceback": [
      "\u001b[1;31mカーネルを起動できませんでした。 \n",
      "\u001b[1;31mJupyter server crashed. Unable to connect. \n",
      "\u001b[1;31mError code from Jupyter: 2\n",
      "\u001b[1;31m/Users/klynoaguilar/.local/lib/python3.9/site-packages/traitlets/traitlets.py:2547: FutureWarning: Supporting extra quotes around strings is deprecated in traitlets 5.0. You can use '/Users/klynoaguilar/Desktop/Hand-Detection' instead of '\"/Users/klynoaguilar/Desktop/Hand-Detection\"' if you require traitlets >=5.\n",
      "\u001b[1;31m  warn(. \n",
      "\u001b[1;31m詳細については、Jupyter [ログ] (command:jupyter.viewOutput) を参照してください。"
     ]
    }
   ],
   "source": [
    "1+1\n"
   ]
  }
 ],
 "metadata": {
  "kernelspec": {
   "display_name": "base",
   "language": "python",
   "name": "python3"
  },
  "language_info": {
   "name": "python",
   "version": "3.9.15"
  },
  "orig_nbformat": 4,
  "vscode": {
   "interpreter": {
    "hash": "ff488f84c47678377c655cf83fafd83cfcdce1dea155bc70badcb8d71d9ae595"
   }
  }
 },
 "nbformat": 4,
 "nbformat_minor": 2
}
