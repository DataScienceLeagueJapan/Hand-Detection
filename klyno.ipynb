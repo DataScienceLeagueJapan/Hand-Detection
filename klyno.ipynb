{
 "cells": [
  {
   "cell_type": "code",
   "execution_count": null,
   "metadata": {},
   "outputs": [],
   "source": [
    "1+1\n",
    "\n",
    "## \n",
    "## datasciecneleague117@gmail.com\n",
    "## ChangeTheWorldWithPowerOfData-24816\n",
    "\n",
    "## git config --global user.name \"DataScienceLeagueJapan\"\n",
    "## git config --global user.email datascienceleague117@gmail.com\n",
    "## git remote set-url origin https://DatScienceLeagueJapan@github.com/DataScienceLeagueJapan/Hand-Detection.git\n",
    "\n",
    "## git push origin dev-oki"
   ]
  }
 ],
 "metadata": {
  "kernelspec": {
   "display_name": "develop",
   "language": "python",
   "name": "python3"
  },
  "language_info": {
   "codemirror_mode": {
    "name": "ipython",
    "version": 3
   },
   "file_extension": ".py",
   "mimetype": "text/x-python",
   "name": "python",
   "nbconvert_exporter": "python",
   "pygments_lexer": "ipython3",
   "version": "3.9.16"
  },
  "orig_nbformat": 4,
  "vscode": {
   "interpreter": {
    "hash": "1217307c0f98f4445d3551ddf08fb7a1be6d46cbb9fc46341a7517d669eaca8f"
   }
  }
 },
 "nbformat": 4,
 "nbformat_minor": 2
}
